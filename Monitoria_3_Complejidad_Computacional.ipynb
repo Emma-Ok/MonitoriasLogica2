{
  "nbformat": 4,
  "nbformat_minor": 0,
  "metadata": {
    "colab": {
      "provenance": [],
      "authorship_tag": "ABX9TyMdVUSV4EMpYoB/tQLU4oeP",
      "include_colab_link": true
    },
    "kernelspec": {
      "name": "python3",
      "display_name": "Python 3"
    },
    "language_info": {
      "name": "python"
    }
  },
  "cells": [
    {
      "cell_type": "markdown",
      "metadata": {
        "id": "view-in-github",
        "colab_type": "text"
      },
      "source": [
        "<a href=\"https://colab.research.google.com/github/Emma-Ok/MonitoriasLogica2_2024-2/blob/main/Monitoria_3_Complejidad_Computacional.ipynb\" target=\"_parent\"><img src=\"https://colab.research.google.com/assets/colab-badge.svg\" alt=\"Open In Colab\"/></a>"
      ]
    },
    {
      "cell_type": "markdown",
      "source": [
        "<p><img alt=\"udeA logo\" height=\"120px\" src=\"https://github.com/freddyduitama/images/blob/master/logo.png?raw=true\" align=\"left\" hspace=\"10px\" vspace=\"0px\" style=\"width:107px;height:152px;\">\n",
        "\n",
        "# Monitoria 3 Logica & Representacion II\n",
        "---\n",
        "*Pilas & Colas*"
      ],
      "metadata": {
        "id": "rHKWHD0c-1GH"
      }
    },
    {
      "cell_type": "markdown",
      "source": [],
      "metadata": {
        "id": "SgVsBQkX-42d"
      }
    },
    {
      "cell_type": "markdown",
      "source": [],
      "metadata": {
        "id": "ogYbPE6ypab7"
      }
    },
    {
      "cell_type": "code",
      "source": [
        "1. void p1(entero n) #-------> 1\n",
        "2.  s = 0 #--------> 1\n",
        "3.  for (i = 1; i <= n; i++) do  # ---> n + 1\n",
        "4.    for (J = 1; J <= i; J++) do # --> n(n+1)/2+n\n",
        "5.      for (k = 1; k <= J; k++) do # ---> n(n+1)(n+2)/6 + n(n+1)/2\n",
        "6.          s = s + 1 #----> n(n+1)(n+2)/6\n",
        "7.       end(for) #-----> n(n+1)(n+2)/6\n",
        "8.    end(for) #------> n(n+1)/2\n",
        "9.  end(for) #------> n\n",
        "10.fin(p1) #---- 1\n",
        "\n",
        "#Contador de frecuencia = n(n)(n)+n(n)+n\n",
        "# O(n***3)"
      ],
      "metadata": {
        "id": "PLpTtXNFpao7"
      },
      "execution_count": null,
      "outputs": []
    },
    {
      "cell_type": "code",
      "source": [
        "1.  void p3(vector V, entero n, real x) # ---- 1\n",
        "2.  i = 1 # -------> 1\n",
        "3.  j = n # --------> 1\n",
        "4.    while (i <= j) do # -------> log3n + 1\n",
        "5.        k = (i + j)/3  # -------> log3n\n",
        "6.        if V[k] <= x then # -------> log3n\n",
        "7.              i = k + 1 # -------> log3n\n",
        "8.        else  # -------> log3n\n",
        "9.              j = k - 1 # -------> log3n\n",
        "10.       end(if) # -------> log3n\n",
        "12. fin(void) # -------> 1\n",
        "\n",
        "# Contador de frencuencias = 5 + 7 log3n\n",
        "# O(log3n)\n"
      ],
      "metadata": {
        "id": "r1jAAVDZrTXq"
      },
      "execution_count": null,
      "outputs": []
    }
  ]
}