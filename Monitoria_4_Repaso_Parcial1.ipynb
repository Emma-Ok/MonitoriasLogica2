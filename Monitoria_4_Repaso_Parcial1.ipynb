{
  "nbformat": 4,
  "nbformat_minor": 0,
  "metadata": {
    "colab": {
      "provenance": [],
      "authorship_tag": "ABX9TyM6UdMxMaBCOYzNx0vv1MtG",
      "include_colab_link": true
    },
    "kernelspec": {
      "name": "python3",
      "display_name": "Python 3"
    },
    "language_info": {
      "name": "python"
    }
  },
  "cells": [
    {
      "cell_type": "markdown",
      "metadata": {
        "id": "view-in-github",
        "colab_type": "text"
      },
      "source": [
        "<a href=\"https://colab.research.google.com/github/Emma-Ok/MonitoriasLogica2_2024-2/blob/main/Monitoria_4_Repaso_Parcial1.ipynb\" target=\"_parent\"><img src=\"https://colab.research.google.com/assets/colab-badge.svg\" alt=\"Open In Colab\"/></a>"
      ]
    },
    {
      "cell_type": "code",
      "execution_count": null,
      "metadata": {
        "id": "viFx7v3q2DBT"
      },
      "outputs": [],
      "source": []
    },
    {
      "cell_type": "markdown",
      "source": [
        "<p><img alt=\"udeA logo\" height=\"120px\" src=\"https://github.com/freddyduitama/images/blob/master/logo.png?raw=true\" align=\"left\" hspace=\"10px\" vspace=\"0px\" style=\"width:107px;height:152px;\">\n",
        "\n",
        "# Monitoria 4 Logica & Representacion II\n",
        "---\n",
        "*Repaso 1er parcial.*"
      ],
      "metadata": {
        "id": "SDe5Fk002Pw5"
      }
    },
    {
      "cell_type": "markdown",
      "source": [
        "Tema: Algoritmos de Ordenamiento y Busqueda"
      ],
      "metadata": {
        "id": "8fm3l0Dd2M-Y"
      }
    },
    {
      "cell_type": "markdown",
      "source": [
        "#1\n",
        "A partir del anterior algoritmo, calcular la funcion polinomica u orden de magnitud, ası como la funcion en\n",
        "notacion Big O (usando la regla asintotica vista en clase)"
      ],
      "metadata": {
        "id": "1Yf71UFpspJ6"
      }
    },
    {
      "cell_type": "code",
      "source": [
        "def Medianas (x ,y): #---- 1\n",
        "   n1 = len (x) # -----> 1\n",
        "   n2 = len (y) # -----> 1\n",
        "   if n1 == n2 : # -----> 1\n",
        "    n = n1 # ----> 1\n",
        "    i ,j = 0 ,0 # ----> 1\n",
        "    m1 , m2 = -1 , -1 # ----> 1\n",
        "    conteo = 0 # ----> 1\n",
        "    limite = n + 1 # ----> 1\n",
        "    while conteo < limite : # -----> n + 1\n",
        "      conteo += 1 # ----> n\n",
        "      if i == n: # ----> n\n",
        "       m1 = m2 # ----> n\n",
        "       m2 = y [0] # ----> n\n",
        "       break # ----> 1\n",
        "      elif j == n: # ----> n\n",
        "        m1 = m2 # ----> n\n",
        "        m2 = x [0] # ----> n\n",
        "      break # ----> 1\n",
        "      if x[i] <= y [j ]: # ----> n\n",
        "        m1 = m2# ----> n\n",
        "        m2 = y[i ] # ----> n\n",
        "        i += 1 # ----> n\n",
        "      else : # ----> n\n",
        "        m1 = m2 # ----> n\n",
        "        m2 = y[j ]# ----> n\n",
        "        j += 1# ----> n\n",
        "    mediana = ( m1 + m2 ) /2 # ----> 1\n",
        "    print (\"La mediana es {med}\". format ( med = mediana ) ) # ----> 1\n",
        "   else : # -----> 1\n",
        "    print (\"No se puede calcular la mediana \") # ------> 1\n",
        "# Contador frecuencia:\n",
        "# Notación: O(n)"
      ],
      "metadata": {
        "id": "ZwlK_VaV3BeG"
      },
      "execution_count": null,
      "outputs": []
    },
    {
      "cell_type": "code",
      "source": [
        "x = [10, 20, 30]\n",
        "y = [15, 25, 35]\n",
        "Medianas (x ,y)"
      ],
      "metadata": {
        "colab": {
          "base_uri": "https://localhost:8080/"
        },
        "id": "VacfHoIcsmIL",
        "outputId": "d88447a1-cd88-43f4-a20e-e8f9de55fa89"
      },
      "execution_count": null,
      "outputs": [
        {
          "output_type": "stream",
          "name": "stdout",
          "text": [
            "La mediana es 7.0\n"
          ]
        }
      ]
    },
    {
      "cell_type": "markdown",
      "source": [
        "#2"
      ],
      "metadata": {
        "id": "mOgdbCLesnMD"
      }
    },
    {
      "cell_type": "code",
      "source": [
        "def Sentinel (x , x_obj ) :\n",
        " n = len (x)  # ----> n = 9\n",
        " L = x[n - 1] # ----> L = 70\n",
        " x[n - 1] = x_obj # ----> x_obj = [ultimaposicion]\n",
        " i = 0 # Contador inicia en 0\n",
        " while (x [i] != x_obj ): # ----> X[0] = 10  != x_obj=60\n",
        "  i += 1 # Incrementamos i\n",
        " x[n - 1] = L\n",
        " if (i < n - 1) or (x [n - 1] == x_obj ):\n",
        "  print (\"El valor {x_obj} se encuentra en la posicion {pos}\". format ( x_obj = x_obj , pos = i))\n",
        " else :\n",
        "  print (\"No se encontro el valor \")"
      ],
      "metadata": {
        "id": "_TCe5i6_rkf8"
      },
      "execution_count": null,
      "outputs": []
    },
    {
      "cell_type": "markdown",
      "source": [
        "Considerando el anterior algoritmo, realizar una prueba de escritorio completa y organizada con el siguiente\n",
        "arreglo de valores:\n",
        "x = [10, 20, 180, 30, 60, 50, 110, 100, 70]\n",
        "\n",
        "x obj = 60"
      ],
      "metadata": {
        "id": "zZilL3pGrrEj"
      }
    },
    {
      "cell_type": "code",
      "source": [
        "x = [10, 20, 180, 30, 60, 50, 110, 100, 70]\n",
        "x_obj = 60\n",
        "Sentinel (x , x_obj )"
      ],
      "metadata": {
        "colab": {
          "base_uri": "https://localhost:8080/"
        },
        "id": "z1TMsRLxs_D9",
        "outputId": "2cb6d38d-daff-42cd-b762-1e23e2db3c72"
      },
      "execution_count": null,
      "outputs": [
        {
          "output_type": "stream",
          "name": "stdout",
          "text": [
            "El valor 60 se encuentra en 1la posicion 4\n"
          ]
        }
      ]
    },
    {
      "cell_type": "markdown",
      "source": [
        "\n",
        "\n",
        "---\n",
        "\n"
      ],
      "metadata": {
        "id": "riwUd_NCsO_2"
      }
    },
    {
      "cell_type": "markdown",
      "source": [
        "#3"
      ],
      "metadata": {
        "id": "KjHbrBaBsQt_"
      }
    },
    {
      "cell_type": "code",
      "source": [
        "def Pico ( x):\n",
        " n = len (x)\n",
        " if n == 1:\n",
        "  return 0\n",
        " elif x [0] >= x [1]:\n",
        "  return 0\n",
        " elif x[n - 1] >= x[ n - 2]:\n",
        "  return n - 1\n",
        " for i in range (1 , n -1) :\n",
        "  if (x [i] >= x[i -1]) and (x[ i] >= x [i +1]) :\n",
        "    return i"
      ],
      "metadata": {
        "id": "nhhnKgjorx1l"
      },
      "execution_count": null,
      "outputs": []
    },
    {
      "cell_type": "markdown",
      "source": [
        "Basado en el anterior algoritmo, determine el valor de salida a usando una prueba de escritorio, considerando el siguiente arreglo de valores"
      ],
      "metadata": {
        "id": "PSCbgN1tsaAV"
      }
    },
    {
      "cell_type": "code",
      "source": [
        "x = [1 ,5 ,7 ,1]\n",
        "a = Pico (x)\n",
        "print (a)"
      ],
      "metadata": {
        "colab": {
          "base_uri": "https://localhost:8080/"
        },
        "id": "CDzkn7q-r-j1",
        "outputId": "d4d80100-f032-4d21-d558-c94aac8fa3dc"
      },
      "execution_count": null,
      "outputs": [
        {
          "output_type": "stream",
          "name": "stdout",
          "text": [
            "2\n"
          ]
        }
      ]
    },
    {
      "cell_type": "markdown",
      "source": [
        "#4"
      ],
      "metadata": {
        "id": "N0qsI78-3PnO"
      }
    },
    {
      "cell_type": "code",
      "source": [
        "class Nodo:\n",
        "    def __init__(self, valor=None):\n",
        "        self.valor = valor\n",
        "        self.siguiente = None\n",
        "        self.anterior = None  # Se añade este atributo en la definición del nodo\n",
        "\n",
        "def EliminarNodo(cabecera, eliminar):\n",
        "    if cabecera is None or eliminar is None:\n",
        "        return cabecera\n",
        "    if cabecera == eliminar:\n",
        "        cabecera = eliminar.siguiente\n",
        "        if cabecera is not None:\n",
        "            cabecera.anterior = None\n",
        "    if eliminar.siguiente is not None:\n",
        "        eliminar.siguiente.anterior = eliminar.anterior\n",
        "    if eliminar.anterior is not None:\n",
        "        eliminar.anterior.siguiente = eliminar.siguiente\n",
        "    return cabecera\n",
        "\n",
        "def RemoverDuplicados(cabecera): # ----> 1\n",
        "    if cabecera is None or cabecera.siguiente is None: # ----> 1\n",
        "        return cabecera # -----> 1\n",
        "    nodo_1, nodo_2 = cabecera # -----> 1\n",
        "    while nodo_1 is not None: # -----> n + 1 # nodo_1 itera sobre cada nodo en la lista. En total, n iteraciones.\n",
        "        nodo_2 = nodo_1.siguiente  # ----> n\n",
        "        while nodo_2 is not None:  # ------> n(n-1)/2 + n  (la primera vez se ejecuta n-1 veces, la siguiente n-2, y así sucesivamente\n",
        "            if nodo_1.valor == nodo_2.valor: # -----> n(n-1)/2\n",
        "                siguiente = nodo_2.siguiente # -----> n(n-1)/2\n",
        "                cabecera = EliminarNodo(cabecera, nodo_2)# -----> n(n-1)/2\n",
        "                nodo_2 = siguiente # -----> n(n-1)/2\n",
        "            else: # -----> n(n-1)/2\n",
        "                nodo_2 = nodo_2.siguiente# -----> n(n-1)/2\n",
        "        nodo_1 = nodo_1.siguiente # ----> n\n",
        "    return cabecera # -----> 1\n",
        "# Contador de frecuencia.\n",
        "# Notacion O(n**2)\n",
        "def insertar(cabecera, nuevo_valor):\n",
        "    nuevo_nodo = Nodo(nuevo_valor)\n",
        "    nuevo_nodo.siguiente = cabecera\n",
        "    if cabecera is not None:\n",
        "        cabecera.anterior = nuevo_nodo\n",
        "    cabecera = nuevo_nodo\n",
        "    return cabecera\n",
        "\n",
        "def mostrarLDL(cabecera):\n",
        "    if cabecera is None:\n",
        "        print(\"LDL está vacía\")\n",
        "        return\n",
        "    while cabecera is not None:\n",
        "        print(cabecera.valor, end=\" <--> \")\n",
        "        cabecera = cabecera.siguiente\n",
        "    print(None)\n"
      ],
      "metadata": {
        "id": "hlatlURFxpqB"
      },
      "execution_count": null,
      "outputs": []
    },
    {
      "cell_type": "markdown",
      "source": [
        "A partir del anterior programa, Cual es el costo computacional temporal de la funcion RemoverDuplicados,\n",
        "considerando el mejor y el peor caso?. Posteriormente, determinar el resultado de la funcion RemoverDuplicados\n",
        "si se tiene una LDL 8 < − > 4 < − > 4 < − > 6 < − > 4 < − > 8 < − > 4 < − > 10 < − > 12 < − > 12 <\n",
        "− > None.\n"
      ],
      "metadata": {
        "id": "Aze5L06q1j21"
      }
    },
    {
      "cell_type": "markdown",
      "source": [
        "#5"
      ],
      "metadata": {
        "id": "pVcvjQhx3WnI"
      }
    },
    {
      "cell_type": "code",
      "source": [
        "class Nodo:\n",
        "    def __init__(self, valor):\n",
        "        self.valor = valor\n",
        "        self.siguiente = None\n",
        "\n",
        "def algoritmo1(cabecera):\n",
        "    anterior = None # Se inicializa a None\n",
        "    presente = cabecera # Se inicializa presente con el valor de cabecera.\n",
        "    while presente is not None:\n",
        "        siguiente_nodo =  presente.siguiente # Se almacena el valor de presente.siguiente en siguiente_nodo.\n",
        "        presente.siguiente = anterior # Invertir el enlace.\n",
        "        anterior = presente # Movemos el puntero anterior hacia el nodo de adelante, que sería presente.\n",
        "        presente = siguiente_nodo # Apunta hacia el siguiente valor en la lista original\n",
        "    return anterior # la nueva cabecera de mi lista invertida.\n",
        "\n",
        "def mostrar(cabecera):\n",
        "    presente = cabecera\n",
        "    while presente is not None:\n",
        "        print(presente.valor, end=\" -> \")\n",
        "        presente = presente.siguiente\n",
        "    print(\"None\")\n"
      ],
      "metadata": {
        "id": "vM9nQVOA1w5F"
      },
      "execution_count": null,
      "outputs": []
    },
    {
      "cell_type": "code",
      "source": [
        "nodo1 = Nodo (10)\n",
        "nodo2 = Nodo (2)\n",
        "nodo3 = Nodo (33)\n",
        "nodo4 = Nodo (4)\n",
        "nodo5 = Nodo (57)\n",
        "\n",
        "nodo1.siguiente = nodo2\n",
        "nodo2.siguiente = nodo3\n",
        "nodo3.siguiente = nodo4\n",
        "nodo4.siguiente = nodo5\n",
        "\n",
        "mostrar( nodo1 )\n",
        "LSL_nueva = algoritmo1 ( nodo1 )\n",
        "\n",
        "mostrar(LSL_nueva)"
      ],
      "metadata": {
        "colab": {
          "base_uri": "https://localhost:8080/"
        },
        "id": "LzDZWKDO16hT",
        "outputId": "6e3e2abf-5f35-41fd-f0c9-81228974d445"
      },
      "execution_count": null,
      "outputs": [
        {
          "output_type": "stream",
          "name": "stdout",
          "text": [
            "10 -> 2 -> 33 -> 4 -> 57 -> None\n",
            "57 -> 4 -> 33 -> 2 -> 10 -> None\n"
          ]
        }
      ]
    },
    {
      "cell_type": "markdown",
      "source": [
        "Describa el funcionamiento del algoritmo 1 y de acuerdo con su explicacion, coloque un nuevo nombre a la\n",
        "funcion. Posteriormente, determinar cual es el resultado de mostrar(LSL nueva)."
      ],
      "metadata": {
        "id": "G-M15awP31Kh"
      }
    },
    {
      "cell_type": "markdown",
      "source": [
        "#6\n",
        "Considere una clase llamada CNC, cuya tarea es realizar operaciones de un Cola No Circular. Dentro\n",
        "de las funciones internas de la clase, la funcion Remover Impares realiza un proceso de eliminacion de los valores\n",
        "impares de la lista y solamente muestra los valores pares de la lista. A partir de lo anterior, disene un algoritmo\n",
        "para remover los valores pares tal que solamente muestre los valores impares de la lista. Posteriormente, determine\n",
        "el costo computacional en el mejor y el peor caso con la nueva funcion disenada."
      ],
      "metadata": {
        "id": "WUoc6Tzz3Z2x"
      }
    },
    {
      "cell_type": "code",
      "source": [
        "class CNC:\n",
        "    def __init__(self, n):\n",
        "        self.capacidad = n\n",
        "        self.primero = -1\n",
        "        self.final = -1\n",
        "        self.V = [None] * self.capacidad\n",
        "\n",
        "    def ColaLLena(self):\n",
        "        return self.final == self.capacidad - 1  # Corregido para que sea válido\n",
        "\n",
        "    def ColaVacia(self):\n",
        "        return self.primero == -1 and self.final == -1\n",
        "\n",
        "    def Encolar(self, valor):\n",
        "        if self.ColaLLena():\n",
        "            print(\"La cola está llena\")\n",
        "            return\n",
        "        if self.ColaVacia():\n",
        "            self.primero, self.final = 0, 0\n",
        "        else:\n",
        "            self.final += 1\n",
        "        self.V[self.final] = valor\n",
        "\n",
        "    def Desencolar(self):\n",
        "        if self.ColaVacia():\n",
        "            print(\"La cola está vacía\")\n",
        "            return None\n",
        "        valor = self.V[self.primero]\n",
        "        if self.primero == self.final:\n",
        "            self.primero, self.final = -1, -1\n",
        "        else:\n",
        "            self.primero += 1\n",
        "        return valor\n",
        "\n",
        "    def Pico(self):\n",
        "        if self.ColaVacia():\n",
        "            print(\"La cola está vacía\")\n",
        "            return -1\n",
        "        return self.V[self.primero]\n",
        "\n",
        "    def Mostrar(self):\n",
        "        if self.ColaVacia():\n",
        "            print(\"La cola está vacía\")\n",
        "            return None\n",
        "        print(\"La lista actual es:\", end=\" \")\n",
        "        for i in range(self.primero, self.final + 1):\n",
        "            print(self.V[i], end=\" \")\n",
        "        print()\n",
        "\n",
        "    def Remover_Impares(self):\n",
        "        temp = CNC(self.capacidad)\n",
        "        while not self.ColaVacia():\n",
        "            x = self.Pico()\n",
        "            self.Desencolar()\n",
        "            if x % 2 == 0:  # Si el valor es par\n",
        "                temp.Encolar(x)\n",
        "\n",
        "        # Transferir los valores de vuelta a la cola original\n",
        "        while not temp.ColaVacia():\n",
        "            self.Encolar(temp.Pico())\n",
        "            temp.Desencolar()\n",
        "\n",
        "    def Remover_Pares(self):\n",
        "        temp = CNC(self.capacidad)\n",
        "        while not self.ColaVacia():\n",
        "            x = self.Pico()\n",
        "            self.Desencolar()\n",
        "            if x % 2 != 0:  # Si el valor es impar\n",
        "                temp.Encolar(x)\n",
        "\n",
        "        # Transferir los valores de vuelta a la cola original\n",
        "        while not temp.ColaVacia():\n",
        "            self.Encolar(temp.Pico())\n",
        "            temp.Desencolar()\n"
      ],
      "metadata": {
        "id": "0jru9k9m3KTd"
      },
      "execution_count": null,
      "outputs": []
    }
  ]
}