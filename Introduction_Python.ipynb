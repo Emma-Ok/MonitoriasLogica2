{
  "nbformat": 4,
  "nbformat_minor": 0,
  "metadata": {
    "colab": {
      "provenance": [],
      "authorship_tag": "ABX9TyNEqdYq3zpyic/RuLcvSpSF",
      "include_colab_link": true
    },
    "kernelspec": {
      "name": "python3",
      "display_name": "Python 3"
    },
    "language_info": {
      "name": "python"
    }
  },
  "cells": [
    {
      "cell_type": "markdown",
      "metadata": {
        "id": "view-in-github",
        "colab_type": "text"
      },
      "source": [
        "<a href=\"https://colab.research.google.com/github/Emma-Ok/MonitoriasLogica2/blob/2025-1/Introduction_Python.ipynb\" target=\"_parent\"><img src=\"https://colab.research.google.com/assets/colab-badge.svg\" alt=\"Open In Colab\"/></a>"
      ]
    },
    {
      "cell_type": "code",
      "execution_count": null,
      "metadata": {
        "id": "04skujOTvidt"
      },
      "outputs": [],
      "source": [
        "lista = [10, 20, 30, 40, 50, 60]\n",
        "print(lista[::2])"
      ]
    },
    {
      "cell_type": "code",
      "source": [
        "# Listas\n",
        "lista = [2, 3, 2.5, \"Hola\"]\n",
        "print (lista[2])\n",
        "lista[2] = \"nuevo\"\n",
        "print (lista[2])"
      ],
      "metadata": {
        "id": "zX_Dv63u0kHe"
      },
      "execution_count": null,
      "outputs": []
    },
    {
      "cell_type": "code",
      "source": [
        "dates = [1982,1980,1973]\n",
        "N=len(dates)\n",
        "\n",
        "# iterar en el indice\n",
        "for i in range(N):\n",
        "    print(dates[i])\n",
        "# iterar en los elementos\n",
        "for i in dates:\n",
        "    print(i)\n",
        "# usar enumerate\n",
        "for n,i in enumerate (dates):\n",
        "    print(n, i)\n"
      ],
      "metadata": {
        "id": "V1y1YIHn00Fk"
      },
      "execution_count": null,
      "outputs": []
    },
    {
      "cell_type": "code",
      "source": [
        "## Estrucutra if else\n",
        "age=17\n",
        "\n",
        "if age>18:\n",
        "    print(\"you can enter to concert\" )\n",
        "elif age==18:\n",
        "    print(\"You can enter after listen Pink Floyd\")\n",
        "else:\n",
        "    print(\"You cannot enter, instead you can listen Black pink / BTS\" )\n",
        "\n",
        "\n",
        "print(\"move on\")"
      ],
      "metadata": {
        "id": "CAjJ5KcO0mcn"
      },
      "execution_count": null,
      "outputs": []
    },
    {
      "cell_type": "code",
      "source": [
        "lista = [1, 2, 2, 3, 4, 5, 5]\n",
        "conjunto = {1, 2, 2, 3, 3, 5}\n",
        "print(lista)\n",
        "print(conjunto)"
      ],
      "metadata": {
        "id": "jdNIiaJiAxif"
      },
      "execution_count": null,
      "outputs": []
    },
    {
      "cell_type": "code",
      "source": [
        "## Ciclos Whiles\n",
        "dates = [1982,1980,1973,2000]\n",
        "i=0;\n",
        "year=0\n",
        "while(year!=1973):\n",
        "    year=dates[i]\n",
        "    i=i+1\n",
        "    print(year)\n",
        "\n",
        "print(\"it took \", i ,\"repetitions to get out of loop\")"
      ],
      "metadata": {
        "id": "tGdGe7vG1EU0"
      },
      "execution_count": null,
      "outputs": []
    },
    {
      "cell_type": "code",
      "source": [
        "# manejo de strings\n",
        "string = \"welcome \" + \"to Python\"\n",
        "print (string)\n",
        "# multiplicacion de cadenas\n",
        "string = \"is Python!\" * 2\n",
        "\n",
        "print (string)\n",
        "\n",
        "# uso con otros tipos de datos\n",
        "string = \"This is test number \" + str(15)\n",
        "\n",
        "print (string)"
      ],
      "metadata": {
        "id": "rvMXCGX-3T5J"
      },
      "execution_count": null,
      "outputs": []
    },
    {
      "cell_type": "code",
      "source": [
        "# obtener subcadenas\n",
        "string = \"first second third\"\n",
        "\n",
        "print(string[:2])\n",
        "\n",
        "print(string[2:])\n",
        "\n",
        "print(string[3:5])\n",
        "\n",
        "print(string[-1])"
      ],
      "metadata": {
        "id": "kk7_WsKo3Ylp"
      },
      "execution_count": null,
      "outputs": []
    },
    {
      "cell_type": "code",
      "source": [
        "# cadenas a números\n",
        "string=\"10\"\n",
        "\n",
        "string2=\"20\"\n",
        "\n",
        "print(string+string2)\n",
        "\n",
        "print(int(string)+int(string2))\n",
        "\n",
        "# contar caracteres\n",
        "string=\"welcome to course of logic & representation 2\"\n",
        "\n",
        "print(min(string))\n",
        "\n",
        "print(max(string))\n",
        "\n",
        "print(len(string))"
      ],
      "metadata": {
        "id": "YNPOXt-93apB"
      },
      "execution_count": null,
      "outputs": []
    },
    {
      "cell_type": "code",
      "source": [
        "lista = [100, 200, 300, 400]\n",
        "print(lista[::-1])"
      ],
      "metadata": {
        "id": "8v5zXn_Z-6u1"
      },
      "execution_count": null,
      "outputs": []
    },
    {
      "cell_type": "code",
      "source": [
        "diccionario = {\"a\": 1, \"b\": 2, \"c\": 3}\n",
        "for clave, valor in diccionario.items():\n",
        "    print(clave, \"->\", valor)\n"
      ],
      "metadata": {
        "id": "vHFLGTLm_Cz0"
      },
      "execution_count": null,
      "outputs": []
    },
    {
      "cell_type": "code",
      "source": [
        "nombres = [\"Ana\", \"Luis\", \"Juan\"]\n",
        "edades = [25, 30, 22]\n",
        "for nombre, edad in zip(nombres, edades):\n",
        "    print(f\"{nombre} tiene {edad} años\")\n"
      ],
      "metadata": {
        "id": "DXWVWADPAVJ6"
      },
      "execution_count": null,
      "outputs": []
    },
    {
      "cell_type": "code",
      "source": [
        "numeros = [x**2 for x in range(5)]\n",
        "print(numeros)\n"
      ],
      "metadata": {
        "id": "o0KXNLvV_iNt"
      },
      "execution_count": null,
      "outputs": []
    },
    {
      "cell_type": "code",
      "source": [
        "def saludo(nombre=\"Mundo\"):\n",
        "    return f\"Hola, {nombre}!\"\n",
        "\n",
        "print(saludo(\"Emma\"))\n"
      ],
      "metadata": {
        "colab": {
          "base_uri": "https://localhost:8080/"
        },
        "id": "21fXMzq4C5FK",
        "outputId": "f9d65a62-03eb-4f2f-d3f6-c18ef6b4d359"
      },
      "execution_count": null,
      "outputs": [
        {
          "output_type": "stream",
          "name": "stdout",
          "text": [
            "Hola, Emma!\n"
          ]
        }
      ]
    },
    {
      "cell_type": "code",
      "source": [
        "'''Cuál es la diferencia entre is y ==?\n",
        "\n",
        "== compara valores.\n",
        "is compara si dos objetos son la misma instancia en memoria.\n",
        "'''\n",
        "a = [1, 2, 3, 4]\n",
        "b = a\n",
        "c = [1, 2, 3, 4]\n",
        "\n",
        "print(a == c)\n",
        "print(a is c)\n",
        "print(a is b)"
      ],
      "metadata": {
        "id": "UhuGsskZ_l0W"
      },
      "execution_count": null,
      "outputs": []
    },
    {
      "cell_type": "code",
      "source": [
        "r = []\n",
        "for i in range(10):\n",
        "    r.append(\"el numero \"+str(i))\n",
        "print(r)"
      ],
      "metadata": {
        "id": "00JzrK4JFIHR"
      },
      "execution_count": null,
      "outputs": []
    },
    {
      "cell_type": "code",
      "source": [
        "r = [\"el numero \"+str(i) for i in range(10)]\n",
        "print(r)"
      ],
      "metadata": {
        "id": "PTeALQ09FLAt"
      },
      "execution_count": null,
      "outputs": []
    },
    {
      "cell_type": "markdown",
      "source": [
        "Creating classes & objects"
      ],
      "metadata": {
        "id": "AMh9CPcJvl__"
      }
    },
    {
      "cell_type": "markdown",
      "source": [
        "Todo lo que creamos en python es un objeto"
      ],
      "metadata": {
        "id": "g527cL2vwq2t"
      }
    },
    {
      "cell_type": "code",
      "source": [
        "a = 10\n",
        "b = 3\n",
        "c = 3.\n",
        "d = \"hola\"\n",
        "print(type(a), type(b), type(c), type(d))\n",
        "\n",
        "print(\"a =\",a,\"; b =\",b, \"; c =\",c)\n",
        "print(\"a/b =\", a/b)\n",
        "print(\"a/c =\", a/c)\n",
        "print(\"a/b =\", a//b)\n",
        "print(\"a/c =\", a//c)"
      ],
      "metadata": {
        "id": "2kMurJNIEgeV"
      },
      "execution_count": null,
      "outputs": []
    },
    {
      "cell_type": "code",
      "source": [
        "nombre = \"Emmanuel\" # objeto de tipo str\n",
        "print(type(nombre))\n",
        "edad = 23 # objeto de tipo int\n",
        "print(type(edad))"
      ],
      "metadata": {
        "colab": {
          "base_uri": "https://localhost:8080/"
        },
        "id": "NGks5xnnv7vO",
        "outputId": "7e092cec-d994-40a1-ede7-e15b57b00891"
      },
      "execution_count": null,
      "outputs": [
        {
          "output_type": "stream",
          "name": "stdout",
          "text": [
            "<class 'str'>\n",
            "<class 'int'>\n"
          ]
        }
      ]
    },
    {
      "cell_type": "markdown",
      "source": [
        "El objeto nombre se crea a través de la clase str"
      ],
      "metadata": {
        "id": "i3QM0Q0Nyzi9"
      }
    },
    {
      "cell_type": "markdown",
      "source": [
        "Todos los objetos tienen diferentes métodos que nos permiten manipular el objeto"
      ],
      "metadata": {
        "id": "FCQdsS3CxF9F"
      }
    },
    {
      "cell_type": "code",
      "source": [
        "print(dir(nombre))"
      ],
      "metadata": {
        "colab": {
          "base_uri": "https://localhost:8080/"
        },
        "id": "Jazkx3QkxvJy",
        "outputId": "f4c77e76-e5aa-4852-f903-b965d7a2103e"
      },
      "execution_count": null,
      "outputs": [
        {
          "output_type": "stream",
          "name": "stdout",
          "text": [
            "['__add__', '__class__', '__contains__', '__delattr__', '__dir__', '__doc__', '__eq__', '__format__', '__ge__', '__getattribute__', '__getitem__', '__getnewargs__', '__getstate__', '__gt__', '__hash__', '__init__', '__init_subclass__', '__iter__', '__le__', '__len__', '__lt__', '__mod__', '__mul__', '__ne__', '__new__', '__reduce__', '__reduce_ex__', '__repr__', '__rmod__', '__rmul__', '__setattr__', '__sizeof__', '__str__', '__subclasshook__', 'capitalize', 'casefold', 'center', 'count', 'encode', 'endswith', 'expandtabs', 'find', 'format', 'format_map', 'index', 'isalnum', 'isalpha', 'isascii', 'isdecimal', 'isdigit', 'isidentifier', 'islower', 'isnumeric', 'isprintable', 'isspace', 'istitle', 'isupper', 'join', 'ljust', 'lower', 'lstrip', 'maketrans', 'partition', 'removeprefix', 'removesuffix', 'replace', 'rfind', 'rindex', 'rjust', 'rpartition', 'rsplit', 'rstrip', 'split', 'splitlines', 'startswith', 'strip', 'swapcase', 'title', 'translate', 'upper', 'zfill']\n"
          ]
        }
      ]
    },
    {
      "cell_type": "code",
      "source": [
        "texto = \"ejemplo de texto\"\n",
        "\n",
        "# Métodos de str\n",
        "print(\"capitalize():\", texto.capitalize())  # Primera letra en mayúscula\n",
        "print(\"casefold():\", texto.casefold())  # Minúsculas para comparación\n",
        "print(\"center(30, '*'):\", texto.center(30, '*'))  # Centrado con relleno\n",
        "print(\"count('e'):\", texto.count('e'))  # Cuenta cuántas veces aparece 'e'\n",
        "print(\"encode():\", texto.encode())  # Codifica en bytes\n",
        "print(\"endswith('texto'):\", texto.endswith(\"texto\"))  # Verifica si termina en \"texto\"\n",
        "print(\"expandtabs():\", \"ejemplo\\ttabulado\".expandtabs(4))  # Expande tabulaciones\n",
        "print(\"find('de'):\", texto.find('de'))  # Encuentra la posición de 'de'\n",
        "print(\"format():\", \"Hola, {}\".format(\"Mundo\"))  # Formateo de cadena\n",
        "print(\"index('de'):\", texto.index('de'))  # Índice de 'de'\n",
        "print(\"isalnum():\", texto.isalnum())  # Verifica si es alfanumérico\n",
        "print(\"isalpha():\", texto.isalpha())  # Verifica si es solo letras\n",
        "print(\"isdigit():\", texto.isdigit())  # Verifica si es solo números\n",
        "print(\"islower():\", texto.islower())  # Verifica si está en minúsculas\n",
        "print(\"isspace():\", texto.isspace())  # Verifica si es solo espacios\n",
        "print(\"istitle():\", texto.istitle())  # Verifica si es un título\n",
        "print(\"isupper():\", texto.isupper())  # Verifica si está en mayúsculas\n",
        "print(\"join(['Hola', 'Mundo']):\", \" \".join([\"Hola\", \"Mundo\"]))  # Une lista con separador\n",
        "print(\"ljust(30, '*'):\", texto.ljust(30, '*'))  # Justifica a la izquierda\n",
        "print(\"lower():\", texto.lower())  # Convierte en minúsculas\n",
        "print(\"lstrip():\", \"   espacios \".lstrip())  # Elimina espacios a la izquierda\n",
        "print(\"replace('ejemplo', 'prueba'):\", texto.replace('ejemplo', 'prueba'))  # Reemplaza texto\n",
        "print(\"rfind('de'):\", texto.rfind('de'))  # Última aparición de 'de'\n",
        "print(\"rindex('de'):\", texto.rindex('de'))  # Último índice de 'de'\n",
        "print(\"rjust(30, '*'):\", texto.rjust(30, '*'))  # Justifica a la derecha\n",
        "print(\"rstrip():\", \"   espacios   \".rstrip())  # Elimina espacios a la derecha\n",
        "print(\"split():\", texto.split())  # Divide en lista de palabras\n",
        "print(\"splitlines():\", \"Línea1\\nLínea2\".splitlines())  # Divide por líneas\n",
        "print(\"startswith('ejemplo'):\", texto.startswith(\"ejemplo\"))  # Verifica inicio\n",
        "print(\"strip():\", \"   espacios   \".strip())  # Elimina espacios en ambos lados\n",
        "print(\"swapcase():\", texto.swapcase())  # Invierte mayúsculas y minúsculas\n",
        "print(\"title():\", texto.title())  # Convierte en título\n",
        "print(\"upper():\", texto.upper())  # Convierte en mayúsculas\n",
        "print(\"zfill(20):\", texto.zfill(20))  # Rellena con ceros a la izquierda\n"
      ],
      "metadata": {
        "id": "nBxOrBqIx2y5"
      },
      "execution_count": null,
      "outputs": []
    },
    {
      "cell_type": "code",
      "source": [
        "numero = 42\n",
        "\n",
        "# Métodos de un objeto int en Python\n",
        "print(\"bit_length():\", numero.bit_length())  # Número de bits necesarios para representar 42\n",
        "print(\"conjugate():\", numero.conjugate())  # Devuelve el conjugado (idéntico para enteros)\n",
        "print(\"denominator:\", numero.denominator)  # Siempre es 1 para enteros\n",
        "print(\"from_bytes(4 bytes, 'little'):\", int.from_bytes(b'\\x2a\\x00\\x00\\x00', 'little'))  # Convierte bytes a int\n",
        "print(\"imag:\", numero.imag)  # Parte imaginaria (siempre 0 para enteros)\n",
        "print(\"numerator:\", numero.numerator)  # Numerador (idéntico para enteros)\n",
        "print(\"real:\", numero.real)  # Parte real (idéntica para enteros)\n",
        "print(\"to_bytes(4 bytes, 'little'):\", numero.to_bytes(4, 'little'))  # Convierte el número en bytes\n",
        "\n",
        "# Algunos métodos de clase int\n",
        "print(\"int.from_bytes(b'\\\\x2a\\\\x00', 'little'):\", int.from_bytes(b'\\x2a\\x00', 'little'))  # De bytes a int\n",
        "print(\"int.bit_count():\", numero.bit_count())  # Número de bits en 1 en la representación binaria\n",
        "\n",
        "# Métodos mágicos (generalmente usados internamente)\n",
        "print(\"__abs__():\", numero.__abs__())  # Valor absoluto\n",
        "print(\"__add__(10):\", numero.__add__(10))  # Suma con otro número\n",
        "print(\"__mul__(2):\", numero.__mul__(2))  # Multiplicación\n",
        "print(\"__pow__(3):\", numero.__pow__(3))  # Potencia (42^3)\n",
        "print(\"__sub__(5):\", numero.__sub__(5))  # Resta\n",
        "print(\"__truediv__(5):\", numero.__truediv__(5))  # División verdadera\n",
        "print(\"__floordiv__(5):\", numero.__floordiv__(5))  # División entera\n",
        "print(\"__mod__(5):\", numero.__mod__(5))  # Módulo\n",
        "print(\"__neg__():\", numero.__neg__())  # Negativo de 42\n",
        "print(\"__repr__():\", numero.__repr__())  # Representación en string\n",
        "print(\"__str__():\", numero.__str__())  # Conversión a string\n"
      ],
      "metadata": {
        "id": "DY7tO_LBxkBP"
      },
      "execution_count": null,
      "outputs": []
    },
    {
      "cell_type": "code",
      "source": [
        "class Gato:\n",
        "  def __init__(self, nombre, color, dueño): # método especial en python para asignarle data a la clase\n",
        "    self.nombre = nombre\n",
        "    self.color = color\n",
        "    self.dueño = dueño\n",
        "  def maullar(self):\n",
        "    print(\"miau\")\n",
        "\n",
        "class Dueño:\n",
        "  def __init__(self, nombre,contacto, gato):\n",
        "    self.nombre = nombre\n",
        "    self.numero_contacto = contacto\n",
        "    self.gato = gato\n",
        "\n",
        "dueño1 = Dueño(\"Emmanuel\", \"123456789\", gato1)\n",
        "\n",
        "gato1 = Gato(\"Emi\", \"Blanca\", dueño1) # estamos creando el objecto\n",
        "gato1.maullar() # Accediendo a un método de la clase Gato\n",
        "print(gato1.nombre) # Accediendo a un atributo de la clase Gato\n",
        "print(gato1.color)\n",
        "print(gato1.dueño.nombre) # Accediendo a un atributo de la clase Dueño\n",
        "print(gato1.dueño.numero_contacto)\n",
        "\n",
        "dueño2 = Dueño(\"Isa\", \"987654321\", gato2)\n",
        "\n",
        "gato2 = Gato(\"Luna\", \"Negro\", dueño2)\n",
        "gato2.maullar()\n",
        "print(gato2.nombre)\n",
        "print(gato2.color)\n",
        "print(gato2.dueño.nombre) # Accediendo a un atributo de la clase Dueño\n",
        "print(gato2.dueño.numero_contacto)"
      ],
      "metadata": {
        "id": "hU3s5jZHzJTK"
      },
      "execution_count": null,
      "outputs": []
    },
    {
      "cell_type": "code",
      "source": [],
      "metadata": {
        "id": "VOyrMTjJyxD4"
      },
      "execution_count": null,
      "outputs": []
    },
    {
      "cell_type": "markdown",
      "source": [
        "Atributos y metodos"
      ],
      "metadata": {
        "id": "kRaKwou6v7-p"
      }
    },
    {
      "cell_type": "markdown",
      "source": [
        "Los atributos son las variables que guardan la información sobre los objetos & los metodos o funciones son acciones o comportamientos que puede tomar mi objeto\n"
      ],
      "metadata": {
        "id": "W3mfHIci3ZI8"
      }
    },
    {
      "cell_type": "code",
      "source": [
        "class Persona:\n",
        "  def __init__(self, name, age):\n",
        "    self.name = name\n",
        "    self.age = age\n",
        "\n",
        "  def saluda(self):\n",
        "    print(f\"Hola, mi nombre es {self.name} y tengo {self.age} años\")\n",
        "\n",
        "persona1 = Persona(\"Emma\", 23)\n",
        "persona1.saluda()\n",
        "\n",
        "persona2 = Persona(\"Isa\", 22)\n",
        "persona2.saluda()\n"
      ],
      "metadata": {
        "colab": {
          "base_uri": "https://localhost:8080/"
        },
        "id": "hU3GFQ5Av-Rw",
        "outputId": "09b1c54d-be33-4a66-ff4c-400ff16195eb"
      },
      "execution_count": null,
      "outputs": [
        {
          "output_type": "stream",
          "name": "stdout",
          "text": [
            "Hola, mi nombre es Emma y tengo 23 años\n"
          ]
        }
      ]
    },
    {
      "cell_type": "markdown",
      "source": [
        "Getter and Setter metodos"
      ],
      "metadata": {
        "id": "CARDVrzSv9PL"
      }
    },
    {
      "cell_type": "code",
      "source": [
        "class Usuario:\n",
        "  def __init__(self, username, email, password):\n",
        "    self.username = username\n",
        "    self.email = email\n",
        "    self.password = password\n",
        "\n",
        "  def enviar_mensaje(self, user):\n",
        "    print(f\"Hola, este mensaje es enviado a {user.username}: Hola {user.username}, soy {self.username}\")\n",
        "\n",
        "user1 = Usuario(\"EmmanuelOk\", \"emma@gmail.com\", \"123456\")\n",
        "user2 = Usuario(\"IsaOk\", \"isa@gmail.com\", \"654321\")\n",
        "\n",
        "user2.enviar_mensaje(user1)"
      ],
      "metadata": {
        "colab": {
          "base_uri": "https://localhost:8080/"
        },
        "id": "SwbeKV6QwCa3",
        "outputId": "9721f4b2-fe8c-48a5-de65-c4c77037064e"
      },
      "execution_count": null,
      "outputs": [
        {
          "output_type": "stream",
          "name": "stdout",
          "text": [
            "Hola, este mensaje es enviado a EmmanuelOk: Hola EmmanuelOk, soy IsaOk\n"
          ]
        }
      ]
    },
    {
      "cell_type": "code",
      "source": [
        "user1.email = \"emmanuel@gmail.com\"\n",
        "print(user1.email)\n",
        "\n",
        "print(user1.email)"
      ],
      "metadata": {
        "id": "u_LrsON0E1TF"
      },
      "execution_count": null,
      "outputs": []
    },
    {
      "cell_type": "markdown",
      "source": [
        "Proteger, Acceder a la data y modificarla\n",
        "forma tradicional:"
      ],
      "metadata": {
        "id": "zS2pwnCFFS0G"
      }
    },
    {
      "cell_type": "code",
      "source": [
        "# el enfoque tradicional se basa en atributos protegidos, getters and setters\n",
        "\n",
        "\n",
        "class UsuarioProtegido:\n",
        "  def __init__(self, username, email, password):\n",
        "    self.username = username\n",
        "    self._email = email # atributos protegidos empiezan con _\n",
        "    self.__password = password # atributos privados doble __\n",
        "\n",
        "  def clean_email(self):\n",
        "    return self._email.lower().strip()\n",
        "\n",
        "  def get_email(self):\n",
        "\n",
        "    return self._email\n",
        "\n",
        "  def set_email(self, new_email):\n",
        "    self._email = new_email\n",
        "\n",
        "  def get_password(self):\n",
        "    return self._password\n",
        "\n",
        "user1 = UsuarioProtegido(\"EmmanuelOk\", \"  EMMA@gmail.com  \", \"123456\")\n",
        "print(user1.username)\n",
        "print(user1._email)\n",
        "print(user1.clean_email())"
      ],
      "metadata": {
        "colab": {
          "base_uri": "https://localhost:8080/"
        },
        "id": "6WNNdQZ_FWql",
        "outputId": "75721459-214f-4d99-e6ec-489f1405b592"
      },
      "execution_count": null,
      "outputs": [
        {
          "output_type": "stream",
          "name": "stdout",
          "text": [
            "EmmanuelOk\n",
            "  EMMA@gmail.com  \n",
            "emma@gmail.com\n"
          ]
        }
      ]
    },
    {
      "cell_type": "code",
      "source": [
        "from datetime import datetime\n",
        "\n",
        "class UsuarioGetterSetter:\n",
        "  def __init__(self, username, email, password):\n",
        "    self.username = username\n",
        "    self._email = email\n",
        "    self._password = password\n",
        "\n",
        "  def get_email(self):\n",
        "    print(f\"Email Accedido a las {datetime.now()}\")\n",
        "    return self._email\n",
        "\n",
        "  def set_email(self, new_email):\n",
        "    if \"@\" in new_email:\n",
        "      self._email = new_email\n",
        "\n",
        "user1 = UsuarioGetterSetter(\"EmmanuelOk\", \"  EMMA@gmail.com  \", \"123456\")\n",
        "print(user1.get_email())\n",
        "user1.set_email(\"emma@gmail.com\")\n",
        "print(user1.get_email())"
      ],
      "metadata": {
        "colab": {
          "base_uri": "https://localhost:8080/"
        },
        "id": "wuF4ikvwScDn",
        "outputId": "953f6112-d309-4afe-e0f8-414b53352188"
      },
      "execution_count": null,
      "outputs": [
        {
          "output_type": "stream",
          "name": "stdout",
          "text": [
            "Email Accedido a las 2025-02-14 07:17:46.103480\n",
            "  EMMA@gmail.com  \n",
            "Email Accedido a las 2025-02-14 07:17:46.105995\n",
            "emma@gmail.com\n"
          ]
        }
      ]
    },
    {
      "cell_type": "code",
      "source": [
        "from datetime import datetime\n",
        "\n",
        "class UsuarioProperty:\n",
        "  def __init__(self, username, email, password):\n",
        "    self.username = username\n",
        "    self._email = email\n",
        "    self._password = password\n",
        "\n",
        "  @property # Get en python\n",
        "  def email(self):\n",
        "    print(f\"Email Accedido a las {datetime.now()}\")\n",
        "    return self._email\n",
        "\n",
        "  @email.setter\n",
        "  def email(self, new_email):\n",
        "    if \"@\" in new_email:\n",
        "      self._email = new_email\n",
        "\n",
        "user1 = UsuarioProperty(\"EmmanuelOk\", \"  EMMA@gmail.com  \", \"123456\")\n",
        "print(user1.email)\n",
        "user1.email = \"emma@gmail.com\"\n",
        "print(user1.email)"
      ],
      "metadata": {
        "id": "8YJRAU5vQ1m9",
        "colab": {
          "base_uri": "https://localhost:8080/"
        },
        "outputId": "fa5dff5f-e606-4996-9c0c-b34bfe14431c"
      },
      "execution_count": null,
      "outputs": [
        {
          "output_type": "stream",
          "name": "stdout",
          "text": [
            "Email Accedido a las 2025-02-14 21:16:13.414326\n",
            "  EMMA@gmail.com  \n",
            "Email Accedido a las 2025-02-14 21:16:13.418826\n",
            "emma@gmail.com\n"
          ]
        }
      ]
    },
    {
      "cell_type": "markdown",
      "source": [
        "Propiedades"
      ],
      "metadata": {
        "id": "uF84NVyBwB05"
      }
    },
    {
      "cell_type": "code",
      "source": [],
      "metadata": {
        "id": "9uHrZMMRwHP_"
      },
      "execution_count": null,
      "outputs": []
    },
    {
      "cell_type": "markdown",
      "source": [
        "Atributos estaticos y metodos"
      ],
      "metadata": {
        "id": "FAh3MaoVwHXW"
      }
    },
    {
      "cell_type": "code",
      "source": [
        "'''\n",
        "Un atributo estatico ó atributo de clase es un atributo que pertenece\n",
        "a la propia clase, no a ninguna instancia específica de la clase\n",
        "'''\n",
        "\n",
        "class UserEstatico:\n",
        "  user_count = 0 # Atributo estatico\n",
        "\n",
        "  def __init__(self, username, email):\n",
        "    self.username = username # Atributos instanciados\n",
        "    self.email = email\n",
        "    UserEstatico.user_count += 1\n",
        "\n",
        "  def print_userEstatico(self):\n",
        "    print(f\"Username: {self.username}, Email: {self.email}\")\n",
        "    print(f\"Usuarios registrados: {UserEstatico.user_count}\")\n",
        "\n",
        "user1 = UserEstatico(\"EmmanuelOk\", \"  EMMA@gmail.com  \")\n",
        "user2 = UserEstatico(\"IsaOk\", \"  ISA@gmail.com  \")\n",
        "user3 = UserEstatico(\"JuanOk\", \"  JUAN@gmail.com  \")\n",
        "\n",
        "\n",
        "print(user1.print_userEstatico())\n",
        "print(user2.print_userEstatico())\n",
        "print(user3.print_userEstatico())\n",
        "\n",
        "# user1.print_userEstatico()\n",
        "# user2.print_userEstatico()\n",
        "# user3.print_userEstatico()\n"
      ],
      "metadata": {
        "colab": {
          "base_uri": "https://localhost:8080/"
        },
        "id": "_s5FidAwVDH4",
        "outputId": "09dd3bb0-0ae7-441e-f91d-15176c5b19b8"
      },
      "execution_count": null,
      "outputs": [
        {
          "output_type": "stream",
          "name": "stdout",
          "text": [
            "Username: EmmanuelOk, Email:   EMMA@gmail.com  \n",
            "Usuarios registrados: 3\n",
            "None\n",
            "Username: IsaOk, Email:   ISA@gmail.com  \n",
            "Usuarios registrados: 3\n",
            "None\n",
            "Username: JuanOk, Email:   JUAN@gmail.com  \n",
            "Usuarios registrados: 3\n",
            "None\n"
          ]
        }
      ]
    },
    {
      "cell_type": "code",
      "source": [
        "'''\n",
        "Un método estático es un método que pertenece a la propia clase\n",
        "y no a cualquier instancia de la clase\n",
        "'''\n",
        "\n",
        "class CuentaBancaria:\n",
        "  MIN_BALANCE = 100\n",
        "  MAX_BALANCE = 10000\n",
        "\n",
        "  def __init__(self, usuario, balance):\n",
        "    self.usuario = usuario\n",
        "    self._balance = balance\n",
        "\n",
        "  def depositar(self, monto):\n",
        "    if self._es_monto_valido(monto):\n",
        "        if self.validar_balance(self._balance + monto):\n",
        "          self._balance += monto\n",
        "          self.__log_movimiento(\"deposito\", monto)\n",
        "        else:\n",
        "          print(\"El monto excede el límite permitido\")\n",
        "\n",
        "  def _es_monto_valido(self, monto):\n",
        "    return monto > 0\n",
        "\n",
        "  def __log_movimiento(self, tipo_transaccion, monto):\n",
        "    print(f\"Logging {tipo_transaccion} de ${monto} realizado por {self.usuario}. Nuevo balance: ${self._balance}\")\n",
        "\n",
        "  @staticmethod\n",
        "  def validar_balance(balance):\n",
        "    return CuentaBancaria.MIN_BALANCE <= balance <= CuentaBancaria.MAX_BALANCE\n",
        "\n",
        "\n",
        "cuenta = CuentaBancaria(\"Emmanuel\", 2000)\n",
        "cuenta.depositar(3000)\n",
        "\n",
        "cuenta._es_monto_valido(1000)\n",
        "\n",
        "cuenta.__log_movimiento(\"deposito\", 1000)\n",
        "\n",
        "print(CuentaBancaria.validar_balance(5000))\n",
        "print(cuenta.validar_balance(11000))"
      ],
      "metadata": {
        "id": "ZIio-zuucM7R"
      },
      "execution_count": null,
      "outputs": []
    },
    {
      "cell_type": "markdown",
      "source": [
        "Encapsulación"
      ],
      "metadata": {
        "id": "nD8nZvEhjEGl"
      }
    },
    {
      "cell_type": "code",
      "source": [
        "# No encapsulada\n",
        "\n",
        "class BadCuentaBancaria:\n",
        "  def __init__(self, usuario, balance):\n",
        "    self.usuario = usuario\n",
        "    self.balance = balance\n",
        "\n",
        "badcuenta = BadCuentaBancaria(\"Emmanuel\", 0)\n",
        "badcuenta.balance = -1\n",
        "print(badcuenta.balance)"
      ],
      "metadata": {
        "colab": {
          "base_uri": "https://localhost:8080/"
        },
        "id": "PHNmEalNjC1n",
        "outputId": "8c8c5f8e-ca47-45f2-f29c-e9785eb60346"
      },
      "execution_count": null,
      "outputs": [
        {
          "output_type": "stream",
          "name": "stdout",
          "text": [
            "-1\n"
          ]
        }
      ]
    },
    {
      "cell_type": "code",
      "source": [
        "class GoodCuentaBancaria:\n",
        "  def __init__(self, usuario):\n",
        "    self.usuario = usuario\n",
        "    self._balance = 0\n",
        "\n",
        "  @property\n",
        "  def balance(self):\n",
        "    return self._balance\n",
        "\n",
        "  def depositar(self, monto):\n",
        "    if monto <= 0:\n",
        "      raise ValueError(\"El monto debe ser positivo\")\n",
        "    self._balance += monto\n",
        "\n",
        "\n",
        "  def retiro(self, monto):\n",
        "    if monto <= 0:\n",
        "      raise ValueError(\"El monto de retiro debe ser positivo\")\n",
        "    if monto >= self._balance:\n",
        "      raise ValueError(\"Saldo insuficiente\")\n",
        "    self._balance -= monto\n",
        "\n",
        "cuenta = GoodCuentaBancaria(\"Emmanuel\")\n",
        "print(cuenta.balance)\n",
        "cuenta.depositar(1000)\n",
        "print(cuenta.balance)\n",
        "cuenta.retiro(500)\n",
        "print(cuenta.balance)\n",
        "cuenta.depositar(-10)"
      ],
      "metadata": {
        "colab": {
          "base_uri": "https://localhost:8080/",
          "height": 349
        },
        "id": "H2Eow5TLjtcl",
        "outputId": "be86bfac-0a05-44fc-ec23-7ee6d19f2e8f"
      },
      "execution_count": null,
      "outputs": [
        {
          "output_type": "stream",
          "name": "stdout",
          "text": [
            "0\n",
            "1000\n",
            "500\n"
          ]
        },
        {
          "output_type": "error",
          "ename": "ValueError",
          "evalue": "El monto debe ser positivo",
          "traceback": [
            "\u001b[0;31m---------------------------------------------------------------------------\u001b[0m",
            "\u001b[0;31mValueError\u001b[0m                                Traceback (most recent call last)",
            "\u001b[0;32m<ipython-input-4-497ac75bca21>\u001b[0m in \u001b[0;36m<cell line: 0>\u001b[0;34m()\u001b[0m\n\u001b[1;32m     27\u001b[0m \u001b[0mcuenta\u001b[0m\u001b[0;34m.\u001b[0m\u001b[0mretiro\u001b[0m\u001b[0;34m(\u001b[0m\u001b[0;36m500\u001b[0m\u001b[0;34m)\u001b[0m\u001b[0;34m\u001b[0m\u001b[0;34m\u001b[0m\u001b[0m\n\u001b[1;32m     28\u001b[0m \u001b[0mprint\u001b[0m\u001b[0;34m(\u001b[0m\u001b[0mcuenta\u001b[0m\u001b[0;34m.\u001b[0m\u001b[0mbalance\u001b[0m\u001b[0;34m)\u001b[0m\u001b[0;34m\u001b[0m\u001b[0;34m\u001b[0m\u001b[0m\n\u001b[0;32m---> 29\u001b[0;31m \u001b[0mcuenta\u001b[0m\u001b[0;34m.\u001b[0m\u001b[0mdepositar\u001b[0m\u001b[0;34m(\u001b[0m\u001b[0;34m-\u001b[0m\u001b[0;36m10\u001b[0m\u001b[0;34m)\u001b[0m\u001b[0;34m\u001b[0m\u001b[0;34m\u001b[0m\u001b[0m\n\u001b[0m",
            "\u001b[0;32m<ipython-input-4-497ac75bca21>\u001b[0m in \u001b[0;36mdepositar\u001b[0;34m(self, monto)\u001b[0m\n\u001b[1;32m     10\u001b[0m   \u001b[0;32mdef\u001b[0m \u001b[0mdepositar\u001b[0m\u001b[0;34m(\u001b[0m\u001b[0mself\u001b[0m\u001b[0;34m,\u001b[0m \u001b[0mmonto\u001b[0m\u001b[0;34m)\u001b[0m\u001b[0;34m:\u001b[0m\u001b[0;34m\u001b[0m\u001b[0;34m\u001b[0m\u001b[0m\n\u001b[1;32m     11\u001b[0m     \u001b[0;32mif\u001b[0m \u001b[0mmonto\u001b[0m \u001b[0;34m<=\u001b[0m \u001b[0;36m0\u001b[0m\u001b[0;34m:\u001b[0m\u001b[0;34m\u001b[0m\u001b[0;34m\u001b[0m\u001b[0m\n\u001b[0;32m---> 12\u001b[0;31m       \u001b[0;32mraise\u001b[0m \u001b[0mValueError\u001b[0m\u001b[0;34m(\u001b[0m\u001b[0;34m\"El monto debe ser positivo\"\u001b[0m\u001b[0;34m)\u001b[0m\u001b[0;34m\u001b[0m\u001b[0;34m\u001b[0m\u001b[0m\n\u001b[0m\u001b[1;32m     13\u001b[0m     \u001b[0mself\u001b[0m\u001b[0;34m.\u001b[0m\u001b[0m_balance\u001b[0m \u001b[0;34m+=\u001b[0m \u001b[0mmonto\u001b[0m\u001b[0;34m\u001b[0m\u001b[0;34m\u001b[0m\u001b[0m\n\u001b[1;32m     14\u001b[0m \u001b[0;34m\u001b[0m\u001b[0m\n",
            "\u001b[0;31mValueError\u001b[0m: El monto debe ser positivo"
          ]
        }
      ]
    }
  ]
}